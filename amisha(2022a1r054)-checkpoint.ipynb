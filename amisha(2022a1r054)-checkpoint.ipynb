{
 "cells": [
  {
   "cell_type": "code",
   "execution_count": 15,
   "id": "62bb4a3c",
   "metadata": {},
   "outputs": [
    {
     "name": "stdout",
     "output_type": "stream",
     "text": [
      "1  \n",
      "2  \n",
      "2  \n",
      "3  \n",
      "3  \n",
      "3  \n",
      "4  \n",
      "4  \n",
      "4  \n",
      "4  \n",
      "5  \n",
      "5  \n",
      "5  \n",
      "5  \n",
      "5  \n"
     ]
    }
   ],
   "source": [
    "rows=6\n",
    "for i in range(rows):\n",
    "    for j in range(i):\n",
    "        print(i,end=' ')\n",
    "        \n",
    "        print(' ')\n"
   ]
  },
  {
   "cell_type": "code",
   "execution_count": 14,
   "id": "09d3cc12",
   "metadata": {},
   "outputs": [
    {
     "name": "stdout",
     "output_type": "stream",
     "text": [
      "          1  \n",
      "        1  \n",
      "2  \n",
      "      1  \n",
      "2  \n",
      "3  \n",
      "    1  \n",
      "2  \n",
      "3  \n",
      "4  \n",
      "  1  \n",
      "2  \n",
      "3  \n",
      "4  \n",
      "5  \n"
     ]
    }
   ],
   "source": [
    "rows=6\n",
    "for i in range(1,rows):\n",
    "    num = 1\n",
    "    for j in range(rows,0,-1):\n",
    "        if j > i:\n",
    "            print(\" \",end=' ')\n",
    "        else:\n",
    "                print(num,end=' ')\n",
    "                num +=1\n",
    "                print(\" \")\n",
    "    "
   ]
  },
  {
   "cell_type": "code",
   "execution_count": 16,
   "id": "b9332687",
   "metadata": {},
   "outputs": [
    {
     "name": "stdout",
     "output_type": "stream",
     "text": [
      "    *\n",
      "   **\n",
      "  ***\n",
      " ****\n",
      "*****\n"
     ]
    }
   ],
   "source": [
    "n=5\n",
    "for i in range(1,n+1):\n",
    "    print(' '*(n-i)+\"*\"*i)"
   ]
  },
  {
   "cell_type": "code",
   "execution_count": 38,
   "id": "e8c01195",
   "metadata": {},
   "outputs": [
    {
     "name": "stdout",
     "output_type": "stream",
     "text": [
      "enter the first number: 22\n",
      "enter the second number: 11\n",
      "the result of 22.0divided by 11.0is2.0\n"
     ]
    }
   ],
   "source": [
    "def get_number(prompt):\n",
    "    while True:\n",
    "        try:\n",
    "            return float(input(prompt))\n",
    "        except valueError:\n",
    "            print(\"invalid input.Enter a valid number.\")\n",
    "        \n",
    "def divide_numbers():\n",
    "    while True:\n",
    "        num1=get_number(\"enter the first number: \")\n",
    "        num2=get_number(\"enter the second number: \")\n",
    "        \n",
    "        try:\n",
    "            result = num1/num2\n",
    "            print(f\"the result of {num1}divided by {num2}is{result}\")\n",
    "            break\n",
    "        except ZeroDivisionError:\n",
    "                print(\"division by zero is not allowed.please enter the numbers again.\")\n",
    "                \n",
    "divide_numbers()"
   ]
  },
  {
   "cell_type": "code",
   "execution_count": null,
   "id": "85647cb3",
   "metadata": {},
   "outputs": [],
   "source": []
  }
 ],
 "metadata": {
  "kernelspec": {
   "display_name": "Python 3 (ipykernel)",
   "language": "python",
   "name": "python3"
  },
  "language_info": {
   "codemirror_mode": {
    "name": "ipython",
    "version": 3
   },
   "file_extension": ".py",
   "mimetype": "text/x-python",
   "name": "python",
   "nbconvert_exporter": "python",
   "pygments_lexer": "ipython3",
   "version": "3.9.12"
  }
 },
 "nbformat": 4,
 "nbformat_minor": 5
}
