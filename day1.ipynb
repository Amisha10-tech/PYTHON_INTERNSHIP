{
 "cells": [
  {
   "cell_type": "code",
   "execution_count": 1,
   "id": "315ab05d-a879-4072-be64-6e8eed069ae6",
   "metadata": {},
   "outputs": [
    {
     "name": "stdin",
     "output_type": "stream",
     "text": [
      " 4\n"
     ]
    },
    {
     "name": "stdout",
     "output_type": "stream",
     "text": [
      "Bad\n"
     ]
    }
   ],
   "source": [
    "n = int(input())\n",
    "\n",
    "if n<0:\n",
    "    if n>(-24):\n",
    "        if n%2==0:\n",
    "            print(\"Good\")\n",
    "        print(\"Not Successfull\")\n",
    "        print(\"Not Valid\")\n",
    "else :\n",
    "    print(\"Bad\")"
   ]
  },
  {
   "cell_type": "code",
   "execution_count": 3,
   "id": "df9a0b93-c51e-4a35-b2a9-792465905d13",
   "metadata": {},
   "outputs": [
    {
     "name": "stdout",
     "output_type": "stream",
     "text": [
      "[100, 99, 98, 97, 96, 95, 94, 93, 92, 91, 90, 89, 88, 87, 86, 85, 84, 83, 82, 81, 80, 79, 78, 77, 76, 75, 74, 73, 72, 71, 70, 69, 68, 67, 66, 65, 64, 63, 62, 61, 60, 59, 58, 57, 56, 55, 54, 53, 52, 51, 50, 49, 48, 47, 46, 45, 44, 43, 42, 41, 40, 39, 38, 37, 36, 35, 34, 33, 32, 31, 30, 29, 28, 27, 26, 25, 24, 23, 22, 21, 20, 19, 18, 17, 16, 15, 14, 13, 12, 11, 10, 9, 8, 7, 6, 5, 4, 3, 2, 1, 0]\n"
     ]
    }
   ],
   "source": [
    "l=[i for i in range(100,-1,-1)]\n",
    "print(l)"
   ]
  },
  {
   "cell_type": "code",
   "execution_count": 4,
   "id": "832521b5-7fec-4f54-b19a-7b03d98bc280",
   "metadata": {},
   "outputs": [
    {
     "name": "stdout",
     "output_type": "stream",
     "text": [
      "[1, 2, 3, 4, 5]\n",
      "[2.3, 5.4, 6.7, 5.4, 9.8]\n",
      "[1, 2, 3.5, 6, 'abcd', 'a', True]\n"
     ]
    }
   ],
   "source": [
    "l=[1,2,3,4,5]\n",
    "l2=[2.3,5.4,6.7,5.4,9.8]\n",
    "l3=[1,2,3.5,6,\"abcd\",'a',True]\n",
    "print(l)\n",
    "print(l2)\n",
    "print(l3)"
   ]
  },
  {
   "cell_type": "code",
   "execution_count": 5,
   "id": "4c57485f-b8fe-40a3-a1f1-0b687b886688",
   "metadata": {},
   "outputs": [
    {
     "name": "stdout",
     "output_type": "stream",
     "text": [
      "<class 'int'> <class 'float'> <class 'str'> <class 'bool'>\n"
     ]
    }
   ],
   "source": [
    "l=[1,2,3,4,5]\n",
    "l2=[2.3,5.4,6.7,5.4,9.8]\n",
    "l3=[1,2,3.5,6,\"abcd\",'a',True]\n",
    "print(type(l3[0]),type(l3[2]),type(l3[4]),type(l3[6]))"
   ]
  },
  {
   "cell_type": "code",
   "execution_count": 6,
   "id": "fb6f7922-56e4-4baf-b94f-b0b928e0412f",
   "metadata": {},
   "outputs": [
    {
     "name": "stdout",
     "output_type": "stream",
     "text": [
      "[1, 2, 3, 4, 5]\n"
     ]
    }
   ],
   "source": [
    "list1=[1,2,3,4,5]\n",
    "list2=list1.copy()\n",
    "print(list2)"
   ]
  },
  {
   "cell_type": "code",
   "execution_count": 8,
   "id": "4d08c69a-ae36-4ca5-825d-460729bdaae1",
   "metadata": {},
   "outputs": [
    {
     "name": "stdout",
     "output_type": "stream",
     "text": [
      "dict_values(['ABCD', 123, [1, 2, 3, 4]])\n",
      "dict_keys([1, 'xyz', 2])\n"
     ]
    }
   ],
   "source": [
    "d={1:\"ABCD\",\"xyz\":123,2:[1,2,3,4]}\n",
    "print(d.values())\n",
    "print(d.keys())"
   ]
  },
  {
   "cell_type": "code",
   "execution_count": 3,
   "id": "ef1bcd92-2e26-471a-b1e0-2b168e532ce0",
   "metadata": {},
   "outputs": [
    {
     "name": "stdin",
     "output_type": "stream",
     "text": [
      "Enter your expression: 1\n"
     ]
    },
    {
     "name": "stdout",
     "output_type": "stream",
     "text": [
      "Invalid Operator\n"
     ]
    }
   ],
   "source": [
    "str = input(\"Enter your expression:\")\n",
    "op=\" \"\n",
    "for i in str:\n",
    "    if i in ['+','-','*','/']:\n",
    "        str = str.replace(op,\" \")\n",
    "        L=str.split(\" \")\n",
    "\n",
    "if op =='+':\n",
    "    print(float(L[0])+float(L[1]))\n",
    "elif op =='-':\n",
    "    print(float(L[0])+float(L[1]))\n",
    "elif op =='*':\n",
    "    print(float(L[0])+float(L[1]))\n",
    "elif op =='/':\n",
    "    print(float(L[0])+float(L[1]))\n",
    "else:\n",
    "    print(\"Invalid Operator\")"
   ]
  },
  {
   "cell_type": "code",
   "execution_count": 6,
   "id": "5c44ee5a-734f-4ddd-9bfb-206b9ef86950",
   "metadata": {},
   "outputs": [
    {
     "name": "stdin",
     "output_type": "stream",
     "text": [
      "Enter your expression:  1\n"
     ]
    },
    {
     "name": "stdout",
     "output_type": "stream",
     "text": [
      "1\n"
     ]
    }
   ],
   "source": [
    "str = input(\"Enter your expression: \")\n",
    "print(eval(str))"
   ]
  },
  {
   "cell_type": "code",
   "execution_count": 8,
   "id": "70672bb6-37cf-46a5-990f-2327e5808b44",
   "metadata": {},
   "outputs": [
    {
     "name": "stdout",
     "output_type": "stream",
     "text": [
      "{3: 1}\n"
     ]
    }
   ],
   "source": [
    "DIP ={'A':1,'B':1,'C':2,'D':3,'E':2,'F':2,'G':3,'H':4,'I':3}\n",
    "\n",
    "DOP ={ }\n",
    "\n",
    "for i in DIP.values():\n",
    "    if i in DOP.keys():\n",
    "        DOP [i]=DOP[i]+1\n",
    "else:\n",
    "    DOP[i]=1\n",
    "\n",
    "print(DOP)"
   ]
  },
  {
   "cell_type": "code",
   "execution_count": null,
   "id": "2080c519-240d-4007-9124-ca25eca35ef0",
   "metadata": {},
   "outputs": [],
   "source": []
  }
 ],
 "metadata": {
  "kernelspec": {
   "display_name": "Python 3 (ipykernel)",
   "language": "python",
   "name": "python3"
  },
  "language_info": {
   "codemirror_mode": {
    "name": "ipython",
    "version": 3
   },
   "file_extension": ".py",
   "mimetype": "text/x-python",
   "name": "python",
   "nbconvert_exporter": "python",
   "pygments_lexer": "ipython3",
   "version": "3.12.4"
  }
 },
 "nbformat": 4,
 "nbformat_minor": 5
}
